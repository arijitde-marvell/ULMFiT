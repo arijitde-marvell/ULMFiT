{
  "nbformat": 4,
  "nbformat_minor": 0,
  "metadata": {
    "colab": {
      "name": "ULMFiT.ipynb",
      "provenance": [],
      "collapsed_sections": []
    },
    "kernelspec": {
      "name": "python3",
      "display_name": "Python 3"
    },
    "accelerator": "GPU"
  },
  "cells": [
    {
      "cell_type": "code",
      "metadata": {
        "id": "-OQpgTrx-CxW",
        "colab_type": "code",
        "outputId": "b7b86c1e-4702-4c2b-fef9-4abd7009841a",
        "colab": {
          "base_uri": "https://localhost:8080/",
          "height": 118
        }
      },
      "source": [
        "!pip install torch_nightly -f https://download.pytorch.org/whl/nightly/cu92/torch_nightly.html"
      ],
      "execution_count": 0,
      "outputs": [
        {
          "output_type": "stream",
          "text": [
            "Looking in links: https://download.pytorch.org/whl/nightly/cu92/torch_nightly.html\n",
            "Collecting torch_nightly\n",
            "\u001b[?25l  Downloading https://download.pytorch.org/whl/nightly/cu92/torch_nightly-1.2.0.dev20190805%2Bcu92-cp36-cp36m-linux_x86_64.whl (704.8MB)\n",
            "\u001b[K     |████████████████████████████████| 704.8MB 26kB/s \n",
            "\u001b[?25hInstalling collected packages: torch-nightly\n",
            "Successfully installed torch-nightly-1.2.0.dev20190805+cu92\n"
          ],
          "name": "stdout"
        }
      ]
    },
    {
      "cell_type": "code",
      "metadata": {
        "id": "MKxHX-5_xniZ",
        "colab_type": "code",
        "colab": {}
      },
      "source": [
        ""
      ],
      "execution_count": 0,
      "outputs": []
    },
    {
      "cell_type": "code",
      "metadata": {
        "id": "uRwkUEeQ_2ae",
        "colab_type": "code",
        "outputId": "a8a6f190-7240-4b44-c7b5-3f36e98c0d34",
        "colab": {
          "base_uri": "https://localhost:8080/",
          "height": 742
        }
      },
      "source": [
        "!pip install fastai"
      ],
      "execution_count": 0,
      "outputs": [
        {
          "output_type": "stream",
          "text": [
            "Requirement already satisfied: fastai in /usr/local/lib/python3.6/dist-packages (1.0.61)\n",
            "Requirement already satisfied: torch>=1.0.0 in /usr/local/lib/python3.6/dist-packages (from fastai) (1.5.0+cu101)\n",
            "Requirement already satisfied: fastprogress>=0.2.1 in /usr/local/lib/python3.6/dist-packages (from fastai) (0.2.3)\n",
            "Requirement already satisfied: pyyaml in /usr/local/lib/python3.6/dist-packages (from fastai) (3.13)\n",
            "Requirement already satisfied: dataclasses; python_version < \"3.7\" in /usr/local/lib/python3.6/dist-packages (from fastai) (0.7)\n",
            "Requirement already satisfied: numexpr in /usr/local/lib/python3.6/dist-packages (from fastai) (2.7.1)\n",
            "Requirement already satisfied: bottleneck in /usr/local/lib/python3.6/dist-packages (from fastai) (1.3.2)\n",
            "Requirement already satisfied: numpy>=1.15 in /usr/local/lib/python3.6/dist-packages (from fastai) (1.18.4)\n",
            "Requirement already satisfied: packaging in /usr/local/lib/python3.6/dist-packages (from fastai) (20.3)\n",
            "Requirement already satisfied: requests in /usr/local/lib/python3.6/dist-packages (from fastai) (2.23.0)\n",
            "Requirement already satisfied: matplotlib in /usr/local/lib/python3.6/dist-packages (from fastai) (3.2.1)\n",
            "Requirement already satisfied: torchvision in /usr/local/lib/python3.6/dist-packages (from fastai) (0.6.0+cu101)\n",
            "Requirement already satisfied: nvidia-ml-py3 in /usr/local/lib/python3.6/dist-packages (from fastai) (7.352.0)\n",
            "Requirement already satisfied: spacy>=2.0.18; python_version < \"3.8\" in /usr/local/lib/python3.6/dist-packages (from fastai) (2.2.4)\n",
            "Requirement already satisfied: scipy in /usr/local/lib/python3.6/dist-packages (from fastai) (1.4.1)\n",
            "Requirement already satisfied: pandas in /usr/local/lib/python3.6/dist-packages (from fastai) (1.0.3)\n",
            "Requirement already satisfied: Pillow in /usr/local/lib/python3.6/dist-packages (from fastai) (7.0.0)\n",
            "Requirement already satisfied: beautifulsoup4 in /usr/local/lib/python3.6/dist-packages (from fastai) (4.6.3)\n",
            "Requirement already satisfied: future in /usr/local/lib/python3.6/dist-packages (from torch>=1.0.0->fastai) (0.16.0)\n",
            "Requirement already satisfied: six in /usr/local/lib/python3.6/dist-packages (from packaging->fastai) (1.12.0)\n",
            "Requirement already satisfied: pyparsing>=2.0.2 in /usr/local/lib/python3.6/dist-packages (from packaging->fastai) (2.4.7)\n",
            "Requirement already satisfied: urllib3!=1.25.0,!=1.25.1,<1.26,>=1.21.1 in /usr/local/lib/python3.6/dist-packages (from requests->fastai) (1.24.3)\n",
            "Requirement already satisfied: idna<3,>=2.5 in /usr/local/lib/python3.6/dist-packages (from requests->fastai) (2.9)\n",
            "Requirement already satisfied: certifi>=2017.4.17 in /usr/local/lib/python3.6/dist-packages (from requests->fastai) (2020.4.5.1)\n",
            "Requirement already satisfied: chardet<4,>=3.0.2 in /usr/local/lib/python3.6/dist-packages (from requests->fastai) (3.0.4)\n",
            "Requirement already satisfied: kiwisolver>=1.0.1 in /usr/local/lib/python3.6/dist-packages (from matplotlib->fastai) (1.2.0)\n",
            "Requirement already satisfied: cycler>=0.10 in /usr/local/lib/python3.6/dist-packages (from matplotlib->fastai) (0.10.0)\n",
            "Requirement already satisfied: python-dateutil>=2.1 in /usr/local/lib/python3.6/dist-packages (from matplotlib->fastai) (2.8.1)\n",
            "Requirement already satisfied: preshed<3.1.0,>=3.0.2 in /usr/local/lib/python3.6/dist-packages (from spacy>=2.0.18; python_version < \"3.8\"->fastai) (3.0.2)\n",
            "Requirement already satisfied: murmurhash<1.1.0,>=0.28.0 in /usr/local/lib/python3.6/dist-packages (from spacy>=2.0.18; python_version < \"3.8\"->fastai) (1.0.2)\n",
            "Requirement already satisfied: plac<1.2.0,>=0.9.6 in /usr/local/lib/python3.6/dist-packages (from spacy>=2.0.18; python_version < \"3.8\"->fastai) (1.1.3)\n",
            "Requirement already satisfied: srsly<1.1.0,>=1.0.2 in /usr/local/lib/python3.6/dist-packages (from spacy>=2.0.18; python_version < \"3.8\"->fastai) (1.0.2)\n",
            "Requirement already satisfied: wasabi<1.1.0,>=0.4.0 in /usr/local/lib/python3.6/dist-packages (from spacy>=2.0.18; python_version < \"3.8\"->fastai) (0.6.0)\n",
            "Requirement already satisfied: tqdm<5.0.0,>=4.38.0 in /usr/local/lib/python3.6/dist-packages (from spacy>=2.0.18; python_version < \"3.8\"->fastai) (4.41.1)\n",
            "Requirement already satisfied: setuptools in /usr/local/lib/python3.6/dist-packages (from spacy>=2.0.18; python_version < \"3.8\"->fastai) (46.3.0)\n",
            "Requirement already satisfied: cymem<2.1.0,>=2.0.2 in /usr/local/lib/python3.6/dist-packages (from spacy>=2.0.18; python_version < \"3.8\"->fastai) (2.0.3)\n",
            "Requirement already satisfied: catalogue<1.1.0,>=0.0.7 in /usr/local/lib/python3.6/dist-packages (from spacy>=2.0.18; python_version < \"3.8\"->fastai) (1.0.0)\n",
            "Requirement already satisfied: thinc==7.4.0 in /usr/local/lib/python3.6/dist-packages (from spacy>=2.0.18; python_version < \"3.8\"->fastai) (7.4.0)\n",
            "Requirement already satisfied: blis<0.5.0,>=0.4.0 in /usr/local/lib/python3.6/dist-packages (from spacy>=2.0.18; python_version < \"3.8\"->fastai) (0.4.1)\n",
            "Requirement already satisfied: pytz>=2017.2 in /usr/local/lib/python3.6/dist-packages (from pandas->fastai) (2018.9)\n",
            "Requirement already satisfied: importlib-metadata>=0.20; python_version < \"3.8\" in /usr/local/lib/python3.6/dist-packages (from catalogue<1.1.0,>=0.0.7->spacy>=2.0.18; python_version < \"3.8\"->fastai) (1.6.0)\n",
            "Requirement already satisfied: zipp>=0.5 in /usr/local/lib/python3.6/dist-packages (from importlib-metadata>=0.20; python_version < \"3.8\"->catalogue<1.1.0,>=0.0.7->spacy>=2.0.18; python_version < \"3.8\"->fastai) (3.1.0)\n"
          ],
          "name": "stdout"
        }
      ]
    },
    {
      "cell_type": "code",
      "metadata": {
        "id": "2wgCA0CeAB-h",
        "colab_type": "code",
        "colab": {}
      },
      "source": [
        "# import libraries\n",
        "import fastai\n",
        "from fastai import *\n",
        "from fastai.text import * \n",
        "import pandas as pd\n",
        "import numpy as np\n",
        "from functools import partial\n",
        "import io\n",
        "import os"
      ],
      "execution_count": 0,
      "outputs": []
    },
    {
      "cell_type": "code",
      "metadata": {
        "id": "GfW-NZGfB7Ho",
        "colab_type": "code",
        "outputId": "f4fdab2a-7432-4900-c2ec-7275e056df54",
        "colab": {
          "base_uri": "https://localhost:8080/",
          "height": 50
        }
      },
      "source": [
        "from sklearn.datasets import fetch_20newsgroups\n",
        "dataset = fetch_20newsgroups(shuffle=True, random_state=1, remove=('headers', 'footers', 'quotes'))\n",
        "documents = dataset.data"
      ],
      "execution_count": 0,
      "outputs": [
        {
          "output_type": "stream",
          "text": [
            "Downloading 20news dataset. This may take a few minutes.\n",
            "Downloading dataset from https://ndownloader.figshare.com/files/5975967 (14 MB)\n"
          ],
          "name": "stderr"
        }
      ]
    },
    {
      "cell_type": "code",
      "metadata": {
        "id": "7BjMnHxdB9sQ",
        "colab_type": "code",
        "outputId": "26cab7df-6483-4d43-8df1-a3bdf23e1f61",
        "colab": {
          "base_uri": "https://localhost:8080/",
          "height": 70
        }
      },
      "source": [
        "documents[:2]"
      ],
      "execution_count": 0,
      "outputs": [
        {
          "output_type": "execute_result",
          "data": {
            "text/plain": [
              "[\"Well i'm not sure about the story nad it did seem biased. What\\nI disagree with is your statement that the U.S. Media is out to\\nruin Israels reputation. That is rediculous. The U.S. media is\\nthe most pro-israeli media in the world. Having lived in Europe\\nI realize that incidences such as the one described in the\\nletter have occured. The U.S. media as a whole seem to try to\\nignore them. The U.S. is subsidizing Israels existance and the\\nEuropeans are not (at least not to the same degree). So I think\\nthat might be a reason they report more clearly on the\\natrocities.\\n\\tWhat is a shame is that in Austria, daily reports of\\nthe inhuman acts commited by Israeli soldiers and the blessing\\nreceived from the Government makes some of the Holocaust guilt\\ngo away. After all, look how the Jews are treating other races\\nwhen they got power. It is unfortunate.\\n\",\n",
              " \"\\n\\n\\n\\n\\n\\n\\nYeah, do you expect people to read the FAQ, etc. and actually accept hard\\natheism?  No, you need a little leap of faith, Jimmy.  Your logic runs out\\nof steam!\\n\\n\\n\\n\\n\\n\\n\\nJim,\\n\\nSorry I can't pity you, Jim.  And I'm sorry that you have these feelings of\\ndenial about the faith you need to get by.  Oh well, just pretend that it will\\nall end happily ever after anyway.  Maybe if you start a new newsgroup,\\nalt.atheist.hard, you won't be bummin' so much?\\n\\n\\n\\n\\n\\n\\nBye-Bye, Big Jim.  Don't forget your Flintstone's Chewables!  :) \\n--\\nBake Timmons, III\"]"
            ]
          },
          "metadata": {
            "tags": []
          },
          "execution_count": 3
        }
      ]
    },
    {
      "cell_type": "code",
      "metadata": {
        "id": "7TdBRAhlCC1A",
        "colab_type": "code",
        "outputId": "27d12b0d-f0fd-4df1-805f-3285b38247e4",
        "colab": {
          "base_uri": "https://localhost:8080/",
          "height": 34
        }
      },
      "source": [
        "type(dataset)"
      ],
      "execution_count": 0,
      "outputs": [
        {
          "output_type": "execute_result",
          "data": {
            "text/plain": [
              "sklearn.utils.Bunch"
            ]
          },
          "metadata": {
            "tags": []
          },
          "execution_count": 4
        }
      ]
    },
    {
      "cell_type": "code",
      "metadata": {
        "id": "Ihaecuk6DJPl",
        "colab_type": "code",
        "outputId": "42c5fd52-4d82-453f-bcb6-a1b43cbc3776",
        "colab": {
          "base_uri": "https://localhost:8080/",
          "height": 34
        }
      },
      "source": [
        "dataset.target"
      ],
      "execution_count": 0,
      "outputs": [
        {
          "output_type": "execute_result",
          "data": {
            "text/plain": [
              "array([17,  0, 17, 11, ..., 13,  9,  4,  9])"
            ]
          },
          "metadata": {
            "tags": []
          },
          "execution_count": 5
        }
      ]
    },
    {
      "cell_type": "code",
      "metadata": {
        "id": "uJbvbR7QDUqZ",
        "colab_type": "code",
        "outputId": "daedd255-cfd3-478d-dedc-30b56bd15c24",
        "colab": {
          "base_uri": "https://localhost:8080/",
          "height": 34
        }
      },
      "source": [
        "documents.index"
      ],
      "execution_count": 0,
      "outputs": [
        {
          "output_type": "execute_result",
          "data": {
            "text/plain": [
              "<function list.index>"
            ]
          },
          "metadata": {
            "tags": []
          },
          "execution_count": 6
        }
      ]
    },
    {
      "cell_type": "code",
      "metadata": {
        "id": "YUUg1MmDFZWG",
        "colab_type": "code",
        "colab": {}
      },
      "source": [
        "d = {'label':dataset.target, 'text':dataset.data}\n",
        "df = pd.DataFrame( data=d)"
      ],
      "execution_count": 0,
      "outputs": []
    },
    {
      "cell_type": "code",
      "metadata": {
        "id": "NlZBxz1pF-Pu",
        "colab_type": "code",
        "outputId": "0a3c8ead-a39a-451f-e77c-b1c010673b8c",
        "colab": {
          "base_uri": "https://localhost:8080/",
          "height": 195
        }
      },
      "source": [
        "df.head()"
      ],
      "execution_count": 0,
      "outputs": [
        {
          "output_type": "execute_result",
          "data": {
            "text/html": [
              "<div>\n",
              "<style scoped>\n",
              "    .dataframe tbody tr th:only-of-type {\n",
              "        vertical-align: middle;\n",
              "    }\n",
              "\n",
              "    .dataframe tbody tr th {\n",
              "        vertical-align: top;\n",
              "    }\n",
              "\n",
              "    .dataframe thead th {\n",
              "        text-align: right;\n",
              "    }\n",
              "</style>\n",
              "<table border=\"1\" class=\"dataframe\">\n",
              "  <thead>\n",
              "    <tr style=\"text-align: right;\">\n",
              "      <th></th>\n",
              "      <th>label</th>\n",
              "      <th>text</th>\n",
              "    </tr>\n",
              "  </thead>\n",
              "  <tbody>\n",
              "    <tr>\n",
              "      <th>0</th>\n",
              "      <td>17</td>\n",
              "      <td>Well i'm not sure about the story nad it did s...</td>\n",
              "    </tr>\n",
              "    <tr>\n",
              "      <th>1</th>\n",
              "      <td>0</td>\n",
              "      <td>\\n\\n\\n\\n\\n\\n\\nYeah, do you expect people to re...</td>\n",
              "    </tr>\n",
              "    <tr>\n",
              "      <th>2</th>\n",
              "      <td>17</td>\n",
              "      <td>Although I realize that principle is not one o...</td>\n",
              "    </tr>\n",
              "    <tr>\n",
              "      <th>3</th>\n",
              "      <td>11</td>\n",
              "      <td>Notwithstanding all the legitimate fuss about ...</td>\n",
              "    </tr>\n",
              "    <tr>\n",
              "      <th>4</th>\n",
              "      <td>10</td>\n",
              "      <td>Well, I will have to change the scoring on my ...</td>\n",
              "    </tr>\n",
              "  </tbody>\n",
              "</table>\n",
              "</div>"
            ],
            "text/plain": [
              "   label                                               text\n",
              "0     17  Well i'm not sure about the story nad it did s...\n",
              "1      0  \\n\\n\\n\\n\\n\\n\\nYeah, do you expect people to re...\n",
              "2     17  Although I realize that principle is not one o...\n",
              "3     11  Notwithstanding all the legitimate fuss about ...\n",
              "4     10  Well, I will have to change the scoring on my ..."
            ]
          },
          "metadata": {
            "tags": []
          },
          "execution_count": 8
        }
      ]
    },
    {
      "cell_type": "code",
      "metadata": {
        "id": "B2Nj0Kq5GzrQ",
        "colab_type": "code",
        "outputId": "0364c22f-36dc-41c6-df1b-6e4727f072d4",
        "colab": {
          "base_uri": "https://localhost:8080/",
          "height": 34
        }
      },
      "source": [
        "df.shape"
      ],
      "execution_count": 0,
      "outputs": [
        {
          "output_type": "execute_result",
          "data": {
            "text/plain": [
              "(11314, 2)"
            ]
          },
          "metadata": {
            "tags": []
          },
          "execution_count": 17
        }
      ]
    },
    {
      "cell_type": "code",
      "metadata": {
        "id": "p33k376QG2bN",
        "colab_type": "code",
        "outputId": "9c83cabc-3902-4c91-95af-dcd529f59aa0",
        "colab": {
          "base_uri": "https://localhost:8080/",
          "height": 67
        }
      },
      "source": [
        "# take 1 & 10 to do a binbary classification\n",
        "df = df[df['label'].isin([1,10])]\n",
        "df = df.reset_index(drop = True)\n",
        "#Let's have a quick look at the target distribution.\n",
        "\n",
        "df['label'].value_counts()"
      ],
      "execution_count": 0,
      "outputs": [
        {
          "output_type": "execute_result",
          "data": {
            "text/plain": [
              "10    600\n",
              "1     584\n",
              "Name: label, dtype: int64"
            ]
          },
          "metadata": {
            "tags": []
          },
          "execution_count": 9
        }
      ]
    },
    {
      "cell_type": "code",
      "metadata": {
        "id": "9AE-JjfLHQK8",
        "colab_type": "code",
        "outputId": "428e4a33-0247-4dab-e15a-0e05e03447dd",
        "colab": {
          "base_uri": "https://localhost:8080/",
          "height": 118
        }
      },
      "source": [
        "print(df.head())"
      ],
      "execution_count": 0,
      "outputs": [
        {
          "output_type": "stream",
          "text": [
            "   label                                               text\n",
            "0     10  Well, I will have to change the scoring on my ...\n",
            "1      1  Archive-name: graphics/resources-list/part1\\nL...\n",
            "2     10  \\nAnd of course, Mike Ramsey was (at one time)...\n",
            "3     10  As I promised, I would give you the name of th...\n",
            "4     10  GAME(S) OF 4/15\\n---------------\\nADIRONDACK 6...\n"
          ],
          "name": "stdout"
        }
      ]
    },
    {
      "cell_type": "code",
      "metadata": {
        "id": "wtQicQHMHXbs",
        "colab_type": "code",
        "colab": {}
      },
      "source": [
        "df['text'] = df['text'].str.replace(\"[^a-zA-Z]\", \" \")\n"
      ],
      "execution_count": 0,
      "outputs": []
    },
    {
      "cell_type": "code",
      "metadata": {
        "id": "O-58WTHeIZU3",
        "colab_type": "code",
        "outputId": "a4e36b3d-c555-45b0-ca2f-38e5f80656a2",
        "colab": {
          "base_uri": "https://localhost:8080/",
          "height": 118
        }
      },
      "source": [
        "print(df.head())"
      ],
      "execution_count": 0,
      "outputs": [
        {
          "output_type": "stream",
          "text": [
            "   label                                               text\n",
            "0     10  well  i will have to change the scoring on my ...\n",
            "1      1  archive name  graphics resources list part  la...\n",
            "2     10   and of course  mike ramsey was  at one time  ...\n",
            "3     10  as i promised  i would give you the name of th...\n",
            "4     10  game s  of                      adirondack   c...\n"
          ],
          "name": "stdout"
        }
      ]
    },
    {
      "cell_type": "code",
      "metadata": {
        "id": "Li3Qoz2_Iava",
        "colab_type": "code",
        "colab": {}
      },
      "source": [
        "df['text'] = df['text'].apply(lambda x: x.lower())"
      ],
      "execution_count": 0,
      "outputs": []
    },
    {
      "cell_type": "code",
      "metadata": {
        "id": "qOcfxNmsKGty",
        "colab_type": "code",
        "outputId": "b149e0d3-9b4f-4374-a22e-4f924ae4bc65",
        "colab": {
          "base_uri": "https://localhost:8080/",
          "height": 195
        }
      },
      "source": [
        "df.head()"
      ],
      "execution_count": 0,
      "outputs": [
        {
          "output_type": "execute_result",
          "data": {
            "text/html": [
              "<div>\n",
              "<style scoped>\n",
              "    .dataframe tbody tr th:only-of-type {\n",
              "        vertical-align: middle;\n",
              "    }\n",
              "\n",
              "    .dataframe tbody tr th {\n",
              "        vertical-align: top;\n",
              "    }\n",
              "\n",
              "    .dataframe thead th {\n",
              "        text-align: right;\n",
              "    }\n",
              "</style>\n",
              "<table border=\"1\" class=\"dataframe\">\n",
              "  <thead>\n",
              "    <tr style=\"text-align: right;\">\n",
              "      <th></th>\n",
              "      <th>label</th>\n",
              "      <th>text</th>\n",
              "    </tr>\n",
              "  </thead>\n",
              "  <tbody>\n",
              "    <tr>\n",
              "      <th>0</th>\n",
              "      <td>10</td>\n",
              "      <td>well  i will have to change the scoring on my ...</td>\n",
              "    </tr>\n",
              "    <tr>\n",
              "      <th>1</th>\n",
              "      <td>1</td>\n",
              "      <td>archive name  graphics resources list part  la...</td>\n",
              "    </tr>\n",
              "    <tr>\n",
              "      <th>2</th>\n",
              "      <td>10</td>\n",
              "      <td>and of course  mike ramsey was  at one time  ...</td>\n",
              "    </tr>\n",
              "    <tr>\n",
              "      <th>3</th>\n",
              "      <td>10</td>\n",
              "      <td>as i promised  i would give you the name of th...</td>\n",
              "    </tr>\n",
              "    <tr>\n",
              "      <th>4</th>\n",
              "      <td>10</td>\n",
              "      <td>game s  of                      adirondack   c...</td>\n",
              "    </tr>\n",
              "  </tbody>\n",
              "</table>\n",
              "</div>"
            ],
            "text/plain": [
              "   label                                               text\n",
              "0     10  well  i will have to change the scoring on my ...\n",
              "1      1  archive name  graphics resources list part  la...\n",
              "2     10   and of course  mike ramsey was  at one time  ...\n",
              "3     10  as i promised  i would give you the name of th...\n",
              "4     10  game s  of                      adirondack   c..."
            ]
          },
          "metadata": {
            "tags": []
          },
          "execution_count": 16
        }
      ]
    },
    {
      "cell_type": "code",
      "metadata": {
        "id": "PCLFOE66KIq_",
        "colab_type": "code",
        "outputId": "3b5f347e-9a65-4069-de5d-acbdfc9a3845",
        "colab": {
          "base_uri": "https://localhost:8080/",
          "height": 50
        }
      },
      "source": [
        "import nltk\n",
        "nltk.download('stopwords')\n",
        "\n",
        "from nltk.corpus import stopwords \n",
        "stop_words = stopwords.words('english')\n",
        "# tokenization \n",
        "tokenized_doc = df['text'].apply(lambda x: x.split())\n",
        "\n",
        "# remove stop-words \n",
        "tokenized_doc = tokenized_doc.apply(lambda x: [item for item in x if item not in stop_words])\n",
        "\n",
        "# de-tokenization \n",
        "detokenized_doc = [] \n",
        "for i in range(len(df)): \n",
        "    t = ' '.join(tokenized_doc[i]) \n",
        "    detokenized_doc.append(t) \n",
        "\n",
        "df['text'] = detokenized_doc"
      ],
      "execution_count": 0,
      "outputs": [
        {
          "output_type": "stream",
          "text": [
            "[nltk_data] Downloading package stopwords to /root/nltk_data...\n",
            "[nltk_data]   Unzipping corpora/stopwords.zip.\n"
          ],
          "name": "stdout"
        }
      ]
    },
    {
      "cell_type": "code",
      "metadata": {
        "id": "NuTw1AktKueE",
        "colab_type": "code",
        "outputId": "857f6da2-05e5-4b34-9743-fd309fd31eab",
        "colab": {
          "base_uri": "https://localhost:8080/",
          "height": 195
        }
      },
      "source": [
        "df.head()"
      ],
      "execution_count": 0,
      "outputs": [
        {
          "output_type": "execute_result",
          "data": {
            "text/html": [
              "<div>\n",
              "<style scoped>\n",
              "    .dataframe tbody tr th:only-of-type {\n",
              "        vertical-align: middle;\n",
              "    }\n",
              "\n",
              "    .dataframe tbody tr th {\n",
              "        vertical-align: top;\n",
              "    }\n",
              "\n",
              "    .dataframe thead th {\n",
              "        text-align: right;\n",
              "    }\n",
              "</style>\n",
              "<table border=\"1\" class=\"dataframe\">\n",
              "  <thead>\n",
              "    <tr style=\"text-align: right;\">\n",
              "      <th></th>\n",
              "      <th>label</th>\n",
              "      <th>text</th>\n",
              "    </tr>\n",
              "  </thead>\n",
              "  <tbody>\n",
              "    <tr>\n",
              "      <th>0</th>\n",
              "      <td>10</td>\n",
              "      <td>well change scoring playoff pool unfortunately...</td>\n",
              "    </tr>\n",
              "    <tr>\n",
              "      <th>1</th>\n",
              "      <td>1</td>\n",
              "      <td>archive name graphics resources list part last...</td>\n",
              "    </tr>\n",
              "    <tr>\n",
              "      <th>2</th>\n",
              "      <td>10</td>\n",
              "      <td>course mike ramsey one time captain buffalo pr...</td>\n",
              "    </tr>\n",
              "    <tr>\n",
              "      <th>3</th>\n",
              "      <td>10</td>\n",
              "      <td>promised would give name panther president hui...</td>\n",
              "    </tr>\n",
              "    <tr>\n",
              "      <th>4</th>\n",
              "      <td>10</td>\n",
              "      <td>game adirondack cdi adirondack leads series fi...</td>\n",
              "    </tr>\n",
              "  </tbody>\n",
              "</table>\n",
              "</div>"
            ],
            "text/plain": [
              "   label                                               text\n",
              "0     10  well change scoring playoff pool unfortunately...\n",
              "1      1  archive name graphics resources list part last...\n",
              "2     10  course mike ramsey one time captain buffalo pr...\n",
              "3     10  promised would give name panther president hui...\n",
              "4     10  game adirondack cdi adirondack leads series fi..."
            ]
          },
          "metadata": {
            "tags": []
          },
          "execution_count": 18
        }
      ]
    },
    {
      "cell_type": "code",
      "metadata": {
        "id": "LlLeCMppVwSF",
        "colab_type": "code",
        "outputId": "4d99f328-f392-4120-bdf1-f5337d733bcd",
        "colab": {
          "base_uri": "https://localhost:8080/",
          "height": 54
        }
      },
      "source": [
        "df['text'][0]"
      ],
      "execution_count": 0,
      "outputs": [
        {
          "output_type": "execute_result",
          "data": {
            "text/plain": [
              "'well change scoring playoff pool unfortunately time right certainly post new scoring rules tomorrow matter enter anyway good keith keller let go rangers let go quakers kkeller mail sas upenn edu ivy league champs'"
            ]
          },
          "metadata": {
            "tags": []
          },
          "execution_count": 41
        }
      ]
    },
    {
      "cell_type": "code",
      "metadata": {
        "id": "zkFwWzrRKx4F",
        "colab_type": "code",
        "colab": {}
      },
      "source": [
        "from sklearn.model_selection import train_test_split\n"
      ],
      "execution_count": 0,
      "outputs": []
    },
    {
      "cell_type": "code",
      "metadata": {
        "id": "Sf-WOf-5K0XV",
        "colab_type": "code",
        "colab": {}
      },
      "source": [
        "df_trn, df_val = train_test_split(df, stratify = df['label'], test_size = 0.4, random_state = 12)"
      ],
      "execution_count": 0,
      "outputs": []
    },
    {
      "cell_type": "code",
      "metadata": {
        "id": "K4ttd1mQK46l",
        "colab_type": "code",
        "outputId": "e5ed1ab9-0631-4f09-fff3-e4c994c2c570",
        "colab": {
          "base_uri": "https://localhost:8080/",
          "height": 34
        }
      },
      "source": [
        "df_trn.shape, df_val.shape\n"
      ],
      "execution_count": 0,
      "outputs": [
        {
          "output_type": "execute_result",
          "data": {
            "text/plain": [
              "((710, 2), (474, 2))"
            ]
          },
          "metadata": {
            "tags": []
          },
          "execution_count": 21
        }
      ]
    },
    {
      "cell_type": "code",
      "metadata": {
        "id": "G3o54xlqM940",
        "colab_type": "code",
        "colab": {}
      },
      "source": [
        ""
      ],
      "execution_count": 0,
      "outputs": []
    },
    {
      "cell_type": "code",
      "metadata": {
        "id": "CRp5dOZNK7TF",
        "colab_type": "code",
        "outputId": "93ef493a-76a2-4532-c2e1-63d492cfb36d",
        "colab": {
          "base_uri": "https://localhost:8080/",
          "height": 17
        }
      },
      "source": [
        "# Language model data\n",
        "data_lm = TextLMDataBunch.from_df(train_df = df_trn, valid_df = df_val, path = \"\")\n"
      ],
      "execution_count": 0,
      "outputs": [
        {
          "output_type": "display_data",
          "data": {
            "text/html": [
              ""
            ],
            "text/plain": [
              "<IPython.core.display.HTML object>"
            ]
          },
          "metadata": {
            "tags": []
          }
        },
        {
          "output_type": "display_data",
          "data": {
            "text/html": [
              ""
            ],
            "text/plain": [
              "<IPython.core.display.HTML object>"
            ]
          },
          "metadata": {
            "tags": []
          }
        }
      ]
    },
    {
      "cell_type": "code",
      "metadata": {
        "id": "cCh_9-CPNWs_",
        "colab_type": "code",
        "outputId": "dfd34621-f36f-4ac7-8832-d2713d6c1005",
        "colab": {
          "base_uri": "https://localhost:8080/",
          "height": 34
        }
      },
      "source": [
        "type(data_lm)"
      ],
      "execution_count": 0,
      "outputs": [
        {
          "output_type": "execute_result",
          "data": {
            "text/plain": [
              "fastai.text.data.TextLMDataBunch"
            ]
          },
          "metadata": {
            "tags": []
          },
          "execution_count": 23
        }
      ]
    },
    {
      "cell_type": "code",
      "metadata": {
        "id": "5yW170n-NYWZ",
        "colab_type": "code",
        "outputId": "8627a2be-32c1-483f-8ca7-66be158318f9",
        "colab": {
          "base_uri": "https://localhost:8080/",
          "height": 17
        }
      },
      "source": [
        "# Classifier model data\n",
        "data_clas = TextClasDataBunch.from_df(path = \"\", train_df = df_trn, valid_df = df_val, vocab=data_lm.train_ds.vocab, bs=32)"
      ],
      "execution_count": 0,
      "outputs": [
        {
          "output_type": "display_data",
          "data": {
            "text/html": [
              ""
            ],
            "text/plain": [
              "<IPython.core.display.HTML object>"
            ]
          },
          "metadata": {
            "tags": []
          }
        },
        {
          "output_type": "display_data",
          "data": {
            "text/html": [
              ""
            ],
            "text/plain": [
              "<IPython.core.display.HTML object>"
            ]
          },
          "metadata": {
            "tags": []
          }
        }
      ]
    },
    {
      "cell_type": "code",
      "metadata": {
        "id": "NtzX_cHgNgft",
        "colab_type": "code",
        "outputId": "a8e27264-6eee-453a-fe3f-86aa2a5ff0ba",
        "colab": {
          "base_uri": "https://localhost:8080/",
          "height": 34
        }
      },
      "source": [
        "#learn = language_model_learner(data_lm, pretrained_model=URLs.WT103, drop_mult=0.7)\n",
        "#learn = language_model_learner(data_lm, AWD_LSTM, pretrained_model=URLs.WT103_BWD, drop_mult=0.7)\n",
        "learn = language_model_learner(data_lm, AWD_LSTM, drop_mult=0.3,pretrained=True)"
      ],
      "execution_count": 0,
      "outputs": [
        {
          "output_type": "stream",
          "text": [
            "Downloading https://s3.amazonaws.com/fast-ai-modelzoo/wt103-fwd.tgz\n"
          ],
          "name": "stdout"
        },
        {
          "output_type": "display_data",
          "data": {
            "text/html": [
              ""
            ],
            "text/plain": [
              "<IPython.core.display.HTML object>"
            ]
          },
          "metadata": {
            "tags": []
          }
        }
      ]
    },
    {
      "cell_type": "code",
      "metadata": {
        "id": "OBw9JFnUN561",
        "colab_type": "code",
        "outputId": "915d5856-de9c-42ea-ec32-87793a581edf",
        "colab": {
          "base_uri": "https://localhost:8080/",
          "height": 77
        }
      },
      "source": [
        "learn.fit_one_cycle(1, 1e-2)"
      ],
      "execution_count": 0,
      "outputs": [
        {
          "output_type": "display_data",
          "data": {
            "text/html": [
              "<table border=\"1\" class=\"dataframe\">\n",
              "  <thead>\n",
              "    <tr style=\"text-align: left;\">\n",
              "      <th>epoch</th>\n",
              "      <th>train_loss</th>\n",
              "      <th>valid_loss</th>\n",
              "      <th>accuracy</th>\n",
              "      <th>time</th>\n",
              "    </tr>\n",
              "  </thead>\n",
              "  <tbody>\n",
              "    <tr>\n",
              "      <td>0</td>\n",
              "      <td>7.742992</td>\n",
              "      <td>6.689374</td>\n",
              "      <td>0.145045</td>\n",
              "      <td>00:02</td>\n",
              "    </tr>\n",
              "  </tbody>\n",
              "</table>"
            ],
            "text/plain": [
              "<IPython.core.display.HTML object>"
            ]
          },
          "metadata": {
            "tags": []
          }
        }
      ]
    },
    {
      "cell_type": "code",
      "metadata": {
        "id": "Ji3yxVD0Ts7i",
        "colab_type": "code",
        "colab": {}
      },
      "source": [
        "learn.save_encoder('ft_enc')"
      ],
      "execution_count": 0,
      "outputs": []
    },
    {
      "cell_type": "code",
      "metadata": {
        "id": "kyu4ITXqT8KA",
        "colab_type": "code",
        "outputId": "c4c63b0c-b958-48f8-e459-d0121bacffff",
        "colab": {
          "base_uri": "https://localhost:8080/",
          "height": 1000
        }
      },
      "source": [
        "#learn = text_classifier_learner(data_clas, drop_mult=0.7)\n",
        "learn = text_classifier_learner(data_clas, AWD_LSTM, drop_mult=0.5)\n",
        "learn.load_encoder('ft_enc')"
      ],
      "execution_count": 0,
      "outputs": [
        {
          "output_type": "execute_result",
          "data": {
            "text/plain": [
              "RNNLearner(data=TextClasDataBunch;\n",
              "\n",
              "Train: LabelList (710 items)\n",
              "x: TextList\n",
              "xxbos looks like edmonton oilers decided take european xxunk spring ranford tugnutt benning manson smith buchberger corson playing canada podein weight playing us kravchuk playing xxunk know nagging injuries late season podein interesting case eligible play cape breton ahl playoffs like kovalev zubov andersson obviously sather pocklington total xxunk everyone makes certainly case massively xxunk paramount new york rangers,xxbos xxunk speaking die hard read xxunk hard xxunk toronto cup finals first anyone planet heard team detroit al xxunk however spell idiot name must chicago espn said even close chicago xxunk win norris division playoffs team close everyone picking chicago get says easy choice god chicago wings division point two followed closely toronto also good team leafs beating detroit doubt even going get chicago even xxunk get past hawks would probably face vancouver lose habs reaching finals forget even devoted wings fan watch penguins easily three xxunk cup winners lemieux jagr tocchet stevens barrasso done deal sorry detroit wait xxunk next year hey paul picks everyone right xxunk leafs finals yeah make walk toronto get tickets mile walk ryan,xxbos idea clip one polygon using another polygon necessarily rectangular window problem finding new vertices resulting xxunk first one simply matter extending usual algorithm whereby edges one polygon checked another polygon simpler way comments welcome,xxbos edmonton usually least often case xxunk actual abc xxunk kings flames game whoever said earlier xxunk er whitman poor commentator hockey normally oilers still playing xxunk would turn sound listen radio broadcast get decent play play announcing,xxbos know absolutely right think round players european xxunk ship em back came let see start dunno lemieux hmmm sounds like french blood hey france part europe send xxunk xxunk boy back sheesh think would hard find native americans native canadians matter would xxunk claim great continent ya see believe xxunk xxunk sort really think mogilny bure selanne et al improved nhl sure understand game\n",
              "y: CategoryList\n",
              "10,10,1,10,10\n",
              "Path: .;\n",
              "\n",
              "Valid: LabelList (474 items)\n",
              "x: TextList\n",
              "xxbos looking source code radiosity method know kind machine want program radiance comes c source code ftp access tell get via way,xxbos interested information xxunk imaging sun workstation part need know hardware available interface system whether xxunk rates sufficient produce quality image xxunk information subject would greatly appreciated,xxbos anyone nhl standings march th need xxunk project please post email thanks,xxbos little xxunk basic mike info xxunk xxunk abc announcing xxunk devils isles pittsburgh gary thorne play play bill clement color al xxunk xxunk xxunk outside xxunk xxunk xxunk primarily seen east coast st louis chicago mike xxunk play play jim xxunk color tom xxunk xxunk xxunk xxunk primarily seen midwest parts south la calgary al believe xxunk michaels play play john davidson color mark jones xxunk reporter xxunk seen western usa montreal xxunk xxunk xxunk xxunk studio abc close personal mario saturday wide world sports edt sunday first nhl playoff regular network xxunk years counting silly star games xxunk last years sunday games abc use xxunk behind goal super super xxunk xxunk close xxunk player faces face xxunk espn abc able use new favorite xxunk ice level shot pittsburgh many seats would removed xxunk case blowout xxunk pittsburgh abc switch chicago game come back pittsburgh game updates game gets closer xxunk abc xxunk huge ratings hockey standards since top us tv markets involved ny xxunk area ny islanders nj devils chicago blackhawks la kings stay tuned thanks mike,xxbos world championships germany group results sweden canada st nd geoff sanderson kevin dineen xxunk patrik xxunk jan xxunk pp rd geoff sanderson ps mike gartner greg xxunk adam graves rod brind amour shayne corson shots goal penalties attendance referee sweden min rob xxunk usa canada min bill ranford stopped shots lead canada victory well played game first period started give away canadian defenseman xxunk came alone ranford put puck xxunk ranford later kevin dineen great opportunity soderstrom played well xxunk nilsson couple great xxunk set jan xxunk ranford came big period ended xxunk edge sweden creating opportunities second period action saw tommy soderstrom making great save mark recchi made xxunk cross ice pass lindros eric one xxunk puck soderstrom make glove hand save minute mark canada started applying pressure xxunk sanderson dineen brind amour worked hard kept puck xxunk zone dineen gave puck sanderson skated around xxunk swedish defenseman came soderstrom made wrist shot went soderstrom far post canada xxunk picked game peter xxunk shot hit ranford post inside went parallel goal line gartner got penalty xxunk power play jan xxunk took shot slot ranford gave rebound xxunk saw xxunk far post passed puck ranford beat third period started periods xxunk pressure canadians always xxunk close xxunk goal canada created great chances xxunk xxunk forced cover puck xxunk goal crease since soderstrom lost sight xxunk penalty shot since defenseman cover puck goal crease geoff sanderson took penalty shot first ever explained xxunk put low soderstrom stick side close post excellent penalty shot give canada go ahead goal canada increased lead suspect xxunk gartner xxunk bouncing puck past soderstrom make xxunk xxunk gas produce good scoring chances periods goal came second left rod brind amour scoring rebound soderstrom swedish defense already xxunk xxunk room good game best wc far goalies playing great soderstrom best player sweden ranford even played better soderstrom tells something ranford probably best goalie world comments game canada played disciplined defense ranford pointed easy play well good defense lindros played lot played well sanderson xxunk game xxunk two goals xxunk naslund xxunk line sweden best along xxunk xxunk nilsson swedish defense played well xxunk xxunk peter xxunk task xxunk xxunk xxunk eric lindros managed well ranger defenseman peter andersson finally got go wc considering xxunk germany hours game played well swedish coach xxunk xxunk xxunk game xxunk xxunk xxunk score xxunk linesman mistake goal lines information follows italy switzerland st nd xxunk xxunk rd penalties xxunk min xxunk min referee xxunk xxunk slovakia attendance group b results czech republic germany st nd xxunk xxunk xxunk xxunk jiri xxunk xxunk petr xxunk rd xxunk xxunk xxunk xxunk josef beranek penalties xxunk min xxunk min min min game penalty referee xxunk xxunk canada attendance xxunk clearly better xxunk german crowd showed xxunk throwing stuff ice finland usa st nd xxunk xxunk xxunk rd usa ed olczyk penalties xxunk min usa min referee xxunk xxunk russia attendance hope xxunk provide information game see whole game xxunk took lead xxunk xxunk slap shot blue line soft goal xxunk mike richter far play second period goes xxunk seemed control lead warranted saw sweden canada goaltender tommy soderstrom bill ranford defense kenneth xxunk norm maciver fredrik stillman dave manson peter xxunk geoff smith peter andersson brian benning xxunk xxunk terry carkner roger xxunk garry galley derek xxunk forwards mikael xxunk dave gagner thomas xxunk adam graves mikael andersson mike gartner markus naslund paul kariya peter xxunk eric lindros jonas xxunk mark recchi patrik xxunk rod brind amour jan xxunk shayne corson xxunk nilsson kevin dineen xxunk xxunk geoff sanderson michael nylander greg xxunk andersson xxunk brian savage kelly buchberger\n",
              "y: CategoryList\n",
              "1,1,10,10,10\n",
              "Path: .;\n",
              "\n",
              "Test: None, model=SequentialRNN(\n",
              "  (0): MultiBatchEncoder(\n",
              "    (module): AWD_LSTM(\n",
              "      (encoder): Embedding(6504, 400, padding_idx=1)\n",
              "      (encoder_dp): EmbeddingDropout(\n",
              "        (emb): Embedding(6504, 400, padding_idx=1)\n",
              "      )\n",
              "      (rnns): ModuleList(\n",
              "        (0): WeightDropout(\n",
              "          (module): LSTM(400, 1152, batch_first=True)\n",
              "        )\n",
              "        (1): WeightDropout(\n",
              "          (module): LSTM(1152, 1152, batch_first=True)\n",
              "        )\n",
              "        (2): WeightDropout(\n",
              "          (module): LSTM(1152, 400, batch_first=True)\n",
              "        )\n",
              "      )\n",
              "      (input_dp): RNNDropout()\n",
              "      (hidden_dps): ModuleList(\n",
              "        (0): RNNDropout()\n",
              "        (1): RNNDropout()\n",
              "        (2): RNNDropout()\n",
              "      )\n",
              "    )\n",
              "  )\n",
              "  (1): PoolingLinearClassifier(\n",
              "    (layers): Sequential(\n",
              "      (0): BatchNorm1d(1200, eps=1e-05, momentum=0.1, affine=True, track_running_stats=True)\n",
              "      (1): Dropout(p=0.2, inplace=False)\n",
              "      (2): Linear(in_features=1200, out_features=50, bias=True)\n",
              "      (3): ReLU(inplace=True)\n",
              "      (4): BatchNorm1d(50, eps=1e-05, momentum=0.1, affine=True, track_running_stats=True)\n",
              "      (5): Dropout(p=0.1, inplace=False)\n",
              "      (6): Linear(in_features=50, out_features=2, bias=True)\n",
              "    )\n",
              "  )\n",
              "), opt_func=functools.partial(<class 'torch.optim.adam.Adam'>, betas=(0.9, 0.99)), loss_func=FlattenedLoss of CrossEntropyLoss(), metrics=[<function accuracy at 0x7f8388305268>], true_wd=True, bn_wd=True, wd=0.01, train_bn=True, path=PosixPath('.'), model_dir='models', callback_fns=[functools.partial(<class 'fastai.basic_train.Recorder'>, add_time=True, silent=False)], callbacks=[RNNTrainer\n",
              "learn: RNNLearner(data=TextClasDataBunch;\n",
              "\n",
              "Train: LabelList (710 items)\n",
              "x: TextList\n",
              "xxbos looks like edmonton oilers decided take european xxunk spring ranford tugnutt benning manson smith buchberger corson playing canada podein weight playing us kravchuk playing xxunk know nagging injuries late season podein interesting case eligible play cape breton ahl playoffs like kovalev zubov andersson obviously sather pocklington total xxunk everyone makes certainly case massively xxunk paramount new york rangers,xxbos xxunk speaking die hard read xxunk hard xxunk toronto cup finals first anyone planet heard team detroit al xxunk however spell idiot name must chicago espn said even close chicago xxunk win norris division playoffs team close everyone picking chicago get says easy choice god chicago wings division point two followed closely toronto also good team leafs beating detroit doubt even going get chicago even xxunk get past hawks would probably face vancouver lose habs reaching finals forget even devoted wings fan watch penguins easily three xxunk cup winners lemieux jagr tocchet stevens barrasso done deal sorry detroit wait xxunk next year hey paul picks everyone right xxunk leafs finals yeah make walk toronto get tickets mile walk ryan,xxbos idea clip one polygon using another polygon necessarily rectangular window problem finding new vertices resulting xxunk first one simply matter extending usual algorithm whereby edges one polygon checked another polygon simpler way comments welcome,xxbos edmonton usually least often case xxunk actual abc xxunk kings flames game whoever said earlier xxunk er whitman poor commentator hockey normally oilers still playing xxunk would turn sound listen radio broadcast get decent play play announcing,xxbos know absolutely right think round players european xxunk ship em back came let see start dunno lemieux hmmm sounds like french blood hey france part europe send xxunk xxunk boy back sheesh think would hard find native americans native canadians matter would xxunk claim great continent ya see believe xxunk xxunk sort really think mogilny bure selanne et al improved nhl sure understand game\n",
              "y: CategoryList\n",
              "10,10,1,10,10\n",
              "Path: .;\n",
              "\n",
              "Valid: LabelList (474 items)\n",
              "x: TextList\n",
              "xxbos looking source code radiosity method know kind machine want program radiance comes c source code ftp access tell get via way,xxbos interested information xxunk imaging sun workstation part need know hardware available interface system whether xxunk rates sufficient produce quality image xxunk information subject would greatly appreciated,xxbos anyone nhl standings march th need xxunk project please post email thanks,xxbos little xxunk basic mike info xxunk xxunk abc announcing xxunk devils isles pittsburgh gary thorne play play bill clement color al xxunk xxunk xxunk outside xxunk xxunk xxunk primarily seen east coast st louis chicago mike xxunk play play jim xxunk color tom xxunk xxunk xxunk xxunk primarily seen midwest parts south la calgary al believe xxunk michaels play play john davidson color mark jones xxunk reporter xxunk seen western usa montreal xxunk xxunk xxunk xxunk studio abc close personal mario saturday wide world sports edt sunday first nhl playoff regular network xxunk years counting silly star games xxunk last years sunday games abc use xxunk behind goal super super xxunk xxunk close xxunk player faces face xxunk espn abc able use new favorite xxunk ice level shot pittsburgh many seats would removed xxunk case blowout xxunk pittsburgh abc switch chicago game come back pittsburgh game updates game gets closer xxunk abc xxunk huge ratings hockey standards since top us tv markets involved ny xxunk area ny islanders nj devils chicago blackhawks la kings stay tuned thanks mike,xxbos world championships germany group results sweden canada st nd geoff sanderson kevin dineen xxunk patrik xxunk jan xxunk pp rd geoff sanderson ps mike gartner greg xxunk adam graves rod brind amour shayne corson shots goal penalties attendance referee sweden min rob xxunk usa canada min bill ranford stopped shots lead canada victory well played game first period started give away canadian defenseman xxunk came alone ranford put puck xxunk ranford later kevin dineen great opportunity soderstrom played well xxunk nilsson couple great xxunk set jan xxunk ranford came big period ended xxunk edge sweden creating opportunities second period action saw tommy soderstrom making great save mark recchi made xxunk cross ice pass lindros eric one xxunk puck soderstrom make glove hand save minute mark canada started applying pressure xxunk sanderson dineen brind amour worked hard kept puck xxunk zone dineen gave puck sanderson skated around xxunk swedish defenseman came soderstrom made wrist shot went soderstrom far post canada xxunk picked game peter xxunk shot hit ranford post inside went parallel goal line gartner got penalty xxunk power play jan xxunk took shot slot ranford gave rebound xxunk saw xxunk far post passed puck ranford beat third period started periods xxunk pressure canadians always xxunk close xxunk goal canada created great chances xxunk xxunk forced cover puck xxunk goal crease since soderstrom lost sight xxunk penalty shot since defenseman cover puck goal crease geoff sanderson took penalty shot first ever explained xxunk put low soderstrom stick side close post excellent penalty shot give canada go ahead goal canada increased lead suspect xxunk gartner xxunk bouncing puck past soderstrom make xxunk xxunk gas produce good scoring chances periods goal came second left rod brind amour scoring rebound soderstrom swedish defense already xxunk xxunk room good game best wc far goalies playing great soderstrom best player sweden ranford even played better soderstrom tells something ranford probably best goalie world comments game canada played disciplined defense ranford pointed easy play well good defense lindros played lot played well sanderson xxunk game xxunk two goals xxunk naslund xxunk line sweden best along xxunk xxunk nilsson swedish defense played well xxunk xxunk peter xxunk task xxunk xxunk xxunk eric lindros managed well ranger defenseman peter andersson finally got go wc considering xxunk germany hours game played well swedish coach xxunk xxunk xxunk game xxunk xxunk xxunk score xxunk linesman mistake goal lines information follows italy switzerland st nd xxunk xxunk rd penalties xxunk min xxunk min referee xxunk xxunk slovakia attendance group b results czech republic germany st nd xxunk xxunk xxunk xxunk jiri xxunk xxunk petr xxunk rd xxunk xxunk xxunk xxunk josef beranek penalties xxunk min xxunk min min min game penalty referee xxunk xxunk canada attendance xxunk clearly better xxunk german crowd showed xxunk throwing stuff ice finland usa st nd xxunk xxunk xxunk rd usa ed olczyk penalties xxunk min usa min referee xxunk xxunk russia attendance hope xxunk provide information game see whole game xxunk took lead xxunk xxunk slap shot blue line soft goal xxunk mike richter far play second period goes xxunk seemed control lead warranted saw sweden canada goaltender tommy soderstrom bill ranford defense kenneth xxunk norm maciver fredrik stillman dave manson peter xxunk geoff smith peter andersson brian benning xxunk xxunk terry carkner roger xxunk garry galley derek xxunk forwards mikael xxunk dave gagner thomas xxunk adam graves mikael andersson mike gartner markus naslund paul kariya peter xxunk eric lindros jonas xxunk mark recchi patrik xxunk rod brind amour jan xxunk shayne corson xxunk nilsson kevin dineen xxunk xxunk geoff sanderson michael nylander greg xxunk andersson xxunk brian savage kelly buchberger\n",
              "y: CategoryList\n",
              "1,1,10,10,10\n",
              "Path: .;\n",
              "\n",
              "Test: None, model=SequentialRNN(\n",
              "  (0): MultiBatchEncoder(\n",
              "    (module): AWD_LSTM(\n",
              "      (encoder): Embedding(6504, 400, padding_idx=1)\n",
              "      (encoder_dp): EmbeddingDropout(\n",
              "        (emb): Embedding(6504, 400, padding_idx=1)\n",
              "      )\n",
              "      (rnns): ModuleList(\n",
              "        (0): WeightDropout(\n",
              "          (module): LSTM(400, 1152, batch_first=True)\n",
              "        )\n",
              "        (1): WeightDropout(\n",
              "          (module): LSTM(1152, 1152, batch_first=True)\n",
              "        )\n",
              "        (2): WeightDropout(\n",
              "          (module): LSTM(1152, 400, batch_first=True)\n",
              "        )\n",
              "      )\n",
              "      (input_dp): RNNDropout()\n",
              "      (hidden_dps): ModuleList(\n",
              "        (0): RNNDropout()\n",
              "        (1): RNNDropout()\n",
              "        (2): RNNDropout()\n",
              "      )\n",
              "    )\n",
              "  )\n",
              "  (1): PoolingLinearClassifier(\n",
              "    (layers): Sequential(\n",
              "      (0): BatchNorm1d(1200, eps=1e-05, momentum=0.1, affine=True, track_running_stats=True)\n",
              "      (1): Dropout(p=0.2, inplace=False)\n",
              "      (2): Linear(in_features=1200, out_features=50, bias=True)\n",
              "      (3): ReLU(inplace=True)\n",
              "      (4): BatchNorm1d(50, eps=1e-05, momentum=0.1, affine=True, track_running_stats=True)\n",
              "      (5): Dropout(p=0.1, inplace=False)\n",
              "      (6): Linear(in_features=50, out_features=2, bias=True)\n",
              "    )\n",
              "  )\n",
              "), opt_func=functools.partial(<class 'torch.optim.adam.Adam'>, betas=(0.9, 0.99)), loss_func=FlattenedLoss of CrossEntropyLoss(), metrics=[<function accuracy at 0x7f8388305268>], true_wd=True, bn_wd=True, wd=0.01, train_bn=True, path=PosixPath('.'), model_dir='models', callback_fns=[functools.partial(<class 'fastai.basic_train.Recorder'>, add_time=True, silent=False)], callbacks=[...], layer_groups=[Sequential(\n",
              "  (0): Embedding(6504, 400, padding_idx=1)\n",
              "  (1): EmbeddingDropout(\n",
              "    (emb): Embedding(6504, 400, padding_idx=1)\n",
              "  )\n",
              "), Sequential(\n",
              "  (0): WeightDropout(\n",
              "    (module): LSTM(400, 1152, batch_first=True)\n",
              "  )\n",
              "  (1): RNNDropout()\n",
              "), Sequential(\n",
              "  (0): WeightDropout(\n",
              "    (module): LSTM(1152, 1152, batch_first=True)\n",
              "  )\n",
              "  (1): RNNDropout()\n",
              "), Sequential(\n",
              "  (0): WeightDropout(\n",
              "    (module): LSTM(1152, 400, batch_first=True)\n",
              "  )\n",
              "  (1): RNNDropout()\n",
              "), Sequential(\n",
              "  (0): PoolingLinearClassifier(\n",
              "    (layers): Sequential(\n",
              "      (0): BatchNorm1d(1200, eps=1e-05, momentum=0.1, affine=True, track_running_stats=True)\n",
              "      (1): Dropout(p=0.2, inplace=False)\n",
              "      (2): Linear(in_features=1200, out_features=50, bias=True)\n",
              "      (3): ReLU(inplace=True)\n",
              "      (4): BatchNorm1d(50, eps=1e-05, momentum=0.1, affine=True, track_running_stats=True)\n",
              "      (5): Dropout(p=0.1, inplace=False)\n",
              "      (6): Linear(in_features=50, out_features=2, bias=True)\n",
              "    )\n",
              "  )\n",
              ")], add_time=True, silent=False)\n",
              "alpha: 2.0\n",
              "beta: 1.0], layer_groups=[Sequential(\n",
              "  (0): Embedding(6504, 400, padding_idx=1)\n",
              "  (1): EmbeddingDropout(\n",
              "    (emb): Embedding(6504, 400, padding_idx=1)\n",
              "  )\n",
              "), Sequential(\n",
              "  (0): WeightDropout(\n",
              "    (module): LSTM(400, 1152, batch_first=True)\n",
              "  )\n",
              "  (1): RNNDropout()\n",
              "), Sequential(\n",
              "  (0): WeightDropout(\n",
              "    (module): LSTM(1152, 1152, batch_first=True)\n",
              "  )\n",
              "  (1): RNNDropout()\n",
              "), Sequential(\n",
              "  (0): WeightDropout(\n",
              "    (module): LSTM(1152, 400, batch_first=True)\n",
              "  )\n",
              "  (1): RNNDropout()\n",
              "), Sequential(\n",
              "  (0): PoolingLinearClassifier(\n",
              "    (layers): Sequential(\n",
              "      (0): BatchNorm1d(1200, eps=1e-05, momentum=0.1, affine=True, track_running_stats=True)\n",
              "      (1): Dropout(p=0.2, inplace=False)\n",
              "      (2): Linear(in_features=1200, out_features=50, bias=True)\n",
              "      (3): ReLU(inplace=True)\n",
              "      (4): BatchNorm1d(50, eps=1e-05, momentum=0.1, affine=True, track_running_stats=True)\n",
              "      (5): Dropout(p=0.1, inplace=False)\n",
              "      (6): Linear(in_features=50, out_features=2, bias=True)\n",
              "    )\n",
              "  )\n",
              ")], add_time=True, silent=False)"
            ]
          },
          "metadata": {
            "tags": []
          },
          "execution_count": 32
        }
      ]
    },
    {
      "cell_type": "code",
      "metadata": {
        "id": "Ldxkx4HtT-fu",
        "colab_type": "code",
        "outputId": "1436193c-fcbb-4ed9-bfb4-3397e48aad14",
        "colab": {
          "base_uri": "https://localhost:8080/",
          "height": 106
        }
      },
      "source": [
        "learn.fit_one_cycle(2, 1e-2)\n"
      ],
      "execution_count": 0,
      "outputs": [
        {
          "output_type": "display_data",
          "data": {
            "text/html": [
              "<table border=\"1\" class=\"dataframe\">\n",
              "  <thead>\n",
              "    <tr style=\"text-align: left;\">\n",
              "      <th>epoch</th>\n",
              "      <th>train_loss</th>\n",
              "      <th>valid_loss</th>\n",
              "      <th>accuracy</th>\n",
              "      <th>time</th>\n",
              "    </tr>\n",
              "  </thead>\n",
              "  <tbody>\n",
              "    <tr>\n",
              "      <td>0</td>\n",
              "      <td>0.348678</td>\n",
              "      <td>0.217137</td>\n",
              "      <td>0.932489</td>\n",
              "      <td>00:05</td>\n",
              "    </tr>\n",
              "    <tr>\n",
              "      <td>1</td>\n",
              "      <td>0.333499</td>\n",
              "      <td>0.131748</td>\n",
              "      <td>0.953587</td>\n",
              "      <td>00:05</td>\n",
              "    </tr>\n",
              "  </tbody>\n",
              "</table>"
            ],
            "text/plain": [
              "<IPython.core.display.HTML object>"
            ]
          },
          "metadata": {
            "tags": []
          }
        }
      ]
    },
    {
      "cell_type": "code",
      "metadata": {
        "id": "t8eg2gMlUy2e",
        "colab_type": "code",
        "outputId": "c701d476-80e1-4210-b985-2edf48cf90a9",
        "colab": {
          "base_uri": "https://localhost:8080/",
          "height": 17
        }
      },
      "source": [
        "# get predictions\n",
        "preds, targets = learn.get_preds()"
      ],
      "execution_count": 0,
      "outputs": [
        {
          "output_type": "display_data",
          "data": {
            "text/html": [
              ""
            ],
            "text/plain": [
              "<IPython.core.display.HTML object>"
            ]
          },
          "metadata": {
            "tags": []
          }
        }
      ]
    },
    {
      "cell_type": "code",
      "metadata": {
        "id": "zhUy-LtAWpJH",
        "colab_type": "code",
        "colab": {}
      },
      "source": [
        "#preds"
      ],
      "execution_count": 0,
      "outputs": []
    },
    {
      "cell_type": "code",
      "metadata": {
        "id": "WOe_hti5U54O",
        "colab_type": "code",
        "colab": {}
      },
      "source": [
        "predictions = np.argmax(preds, axis = 1)"
      ],
      "execution_count": 0,
      "outputs": []
    },
    {
      "cell_type": "code",
      "metadata": {
        "id": "u3r5dWxiU9Qe",
        "colab_type": "code",
        "outputId": "2b4e663c-a702-42cf-8ee5-2cd89c5c4d18",
        "colab": {
          "base_uri": "https://localhost:8080/",
          "height": 136
        }
      },
      "source": [
        "pd.crosstab(predictions, targets)\n"
      ],
      "execution_count": 0,
      "outputs": [
        {
          "output_type": "execute_result",
          "data": {
            "text/html": [
              "<div>\n",
              "<style scoped>\n",
              "    .dataframe tbody tr th:only-of-type {\n",
              "        vertical-align: middle;\n",
              "    }\n",
              "\n",
              "    .dataframe tbody tr th {\n",
              "        vertical-align: top;\n",
              "    }\n",
              "\n",
              "    .dataframe thead th {\n",
              "        text-align: right;\n",
              "    }\n",
              "</style>\n",
              "<table border=\"1\" class=\"dataframe\">\n",
              "  <thead>\n",
              "    <tr style=\"text-align: right;\">\n",
              "      <th>col_0</th>\n",
              "      <th>0</th>\n",
              "      <th>1</th>\n",
              "    </tr>\n",
              "    <tr>\n",
              "      <th>row_0</th>\n",
              "      <th></th>\n",
              "      <th></th>\n",
              "    </tr>\n",
              "  </thead>\n",
              "  <tbody>\n",
              "    <tr>\n",
              "      <th>0</th>\n",
              "      <td>230</td>\n",
              "      <td>18</td>\n",
              "    </tr>\n",
              "    <tr>\n",
              "      <th>1</th>\n",
              "      <td>4</td>\n",
              "      <td>222</td>\n",
              "    </tr>\n",
              "  </tbody>\n",
              "</table>\n",
              "</div>"
            ],
            "text/plain": [
              "col_0    0    1\n",
              "row_0          \n",
              "0      230   18\n",
              "1        4  222"
            ]
          },
          "metadata": {
            "tags": []
          },
          "execution_count": 36
        }
      ]
    },
    {
      "cell_type": "code",
      "metadata": {
        "id": "1WMB2mqHU-1u",
        "colab_type": "code",
        "colab": {}
      },
      "source": [
        ""
      ],
      "execution_count": 0,
      "outputs": []
    }
  ]
}